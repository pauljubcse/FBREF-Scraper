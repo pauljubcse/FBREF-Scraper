{
  "cells": [
    {
      "cell_type": "code",
      "execution_count": 2,
      "metadata": {
        "id": "buSQ88DeyAUh"
      },
      "outputs": [],
      "source": [
        "import requests\n",
        "import pandas as pd\n",
        "from bs4 import BeautifulSoup\n",
        "import seaborn as sb\n",
        "import matplotlib.pyplot as plt\n",
        "import matplotlib as mpl\n",
        "import warnings\n",
        "import numpy as np\n",
        "from math import pi\n",
        "from googlesearch import search\n",
        "import time"
      ]
    },
    {
      "cell_type": "code",
      "execution_count": 3,
      "metadata": {
        "id": "n2fSLNmU9UCU"
      },
      "outputs": [],
      "source": [
        "def linkGen(player):\n",
        "    query = player+\" FBref\"\n",
        "\n",
        "    for j in search(query, tld=\"co.in\", num=10, stop=10, pause=2):\n",
        "        return j"
      ]
    },
    {
      "cell_type": "code",
      "execution_count": 4,
      "metadata": {
        "colab": {
          "base_uri": "https://localhost:8080/",
          "height": 36
        },
        "id": "AkysTDGW8D9h",
        "outputId": "da1693cb-dec3-4652-deb1-322b35d76c79"
      },
      "outputs": [
        {
          "output_type": "execute_result",
          "data": {
            "text/plain": [
              "'https://fbref.com/en/players/21a66f6a/Harry-Kane'"
            ],
            "application/vnd.google.colaboratory.intrinsic+json": {
              "type": "string"
            }
          },
          "metadata": {},
          "execution_count": 4
        }
      ],
      "source": [
        "linkGen(\"Harry Kane\")"
      ]
    },
    {
      "cell_type": "code",
      "execution_count": 5,
      "metadata": {
        "id": "BWQnktcqIVIs"
      },
      "outputs": [],
      "source": [
        "def getPlayerData(x):\n",
        "    warnings.filterwarnings(\"ignore\")\n",
        "    try:\n",
        "        url = x\n",
        "        page =requests.get(url)\n",
        "        soup = BeautifulSoup(page.content, 'html.parser')\n",
        "\n",
        "        div=soup.find(\"div\", {\"class\" : \"filter switcher\"})\n",
        "        pos=div.find(\"a\").contents[0][4:]\n",
        "\n",
        "        name = [element.text for element in soup.find_all(\"span\")]\n",
        "        name = name[7]\n",
        "        metric_names = []\n",
        "        metric_values = []\n",
        "        metric_percentiles = []\n",
        "        remove_content = [\"'\", \"[\", \"]\", \",\"]\n",
        "        for row in soup.findAll('table')[0].tbody.findAll('tr'):\n",
        "            first_column = row.findAll('th')[0].contents\n",
        "            if first_column==[]:\n",
        "                continue\n",
        "            metric_names.append(first_column[0])\n",
        "        for row in soup.findAll('table')[0].tbody.findAll('tr'):\n",
        "            first_column = row.findAll('td')[0].contents\n",
        "            if first_column==[]:\n",
        "                continue\n",
        "            metric_values.append(first_column[0])\n",
        "        for row in soup.findAll('table')[0].tbody.findAll('tr'):\n",
        "            first_column = row.findAll('td')[1].contents\n",
        "            if first_column==[]:\n",
        "                continue\n",
        "            metric_percentiles.append(int(first_column[0].contents[0]))\n",
        "        for i in range(len(metric_values)):\n",
        "            text=metric_values[i]\n",
        "            if '%' in text:\n",
        "                text=text[:-1]\n",
        "            metric_values[i]=float(text)\n",
        "        return [metric_names, metric_values, metric_percentiles, name, pos]\n",
        "    except:\n",
        "        return []"
      ]
    },
    {
      "cell_type": "code",
      "execution_count": 6,
      "metadata": {
        "id": "gl9c9ZWPIy3H"
      },
      "outputs": [],
      "source": [
        "from tqdm import tqdm"
      ]
    },
    {
      "cell_type": "code",
      "source": [
        "#DataFrame of all players' Names from top 5 leagues\n",
        "def getPlayers():\n",
        "    warnings.filterwarnings(\"ignore\")\n",
        "    url = \"https://fbref.com/en/comps/Big5/stats/players/Big-5-European-Leagues-Stats\"\n",
        "    page =requests.get(url)\n",
        "    soup = BeautifulSoup(page.content, 'html.parser')\n",
        "    Name_Link = []\n",
        "    for row in soup.findAll('table')[0].tbody.findAll('tr'):\n",
        "        val=[]\n",
        "        try:\n",
        "            temp=row.findAll('td')[0].contents\n",
        "            val.append(temp[0].contents[0])\n",
        "            val.append(temp[0].get(\"href\"))\n",
        "            Name_Link.append(val)\n",
        "\n",
        "        except:\n",
        "            continue\n",
        "    return Name_Link"
      ],
      "metadata": {
        "id": "NETIQVicH0ME"
      },
      "execution_count": 7,
      "outputs": []
    },
    {
      "cell_type": "code",
      "execution_count": 8,
      "metadata": {
        "id": "r9fOXgkTRNNp"
      },
      "outputs": [],
      "source": [
        "class FBREFDataSet():\n",
        "\n",
        "    def __init__(self):\n",
        "        self.Name_Link=pd.read_csv(\"/content/drive/MyDrive/FBREF/NAME_DB.csv\")\n",
        "        self.Name_Link=[[self.Name_Link.iloc[i,1], self.Name_Link.iloc[i,2]] for i in range(self.Name_Link.shape[0])]\n",
        "        self.Midfielders= pd.DataFrame({'Name': pd.Series(dtype='str'),\n",
        "                   'Attribute Vector': pd.Series(dtype='object'),\n",
        "                         'Percentiles': pd.Series(dtype='object')})\n",
        "        self.Forwards= pd.DataFrame({'Name': pd.Series(dtype='str'),\n",
        "                   'Attribute Vector': pd.Series(dtype='object'),\n",
        "                         'Percentiles': pd.Series(dtype='object')})\n",
        "        self.AtMid_Wingers= pd.DataFrame({'Name': pd.Series(dtype='str'),\n",
        "                   'Attribute Vector': pd.Series(dtype='object'),\n",
        "                         'Percentiles': pd.Series(dtype='object')})\n",
        "        self.FullBacks= pd.DataFrame({'Name': pd.Series(dtype='str'),\n",
        "                   'Attribute Vector': pd.Series(dtype='object'),\n",
        "                         'Percentiles': pd.Series(dtype='object')})\n",
        "        self.CenterBacks= pd.DataFrame({'Name': pd.Series(dtype='str'),\n",
        "                   'Attribute Vector': pd.Series(dtype='object'),\n",
        "                         'Percentiles': pd.Series(dtype='object')})\n",
        "        self.GoalKeepers= pd.DataFrame({'Name': pd.Series(dtype='str'),\n",
        "                   'Attribute Vector': pd.Series(dtype='object'),\n",
        "                         'Percentiles': pd.Series(dtype='object')})\n",
        "\n",
        "\n",
        "    def load_online(self):\n",
        "        index=[0 for i in range(6)]\n",
        "        Positions={'Forwards': self.Forwards,\n",
        "                   'Att Mid / Wingers':self.AtMid_Wingers,\n",
        "                   'Midfielders': self.Midfielders,\n",
        "                   'Center Backs':self.CenterBacks,\n",
        "                   'Fullbacks': self.FullBacks,\n",
        "                   'Goalkeepers':self.GoalKeepers\n",
        "                   }\n",
        "        n = len(self.Name_Link)\n",
        "        for i in tqdm(range(n)):\n",
        "            name=self.Name_Link[i][0]\n",
        "            data=getPlayerData('https://fbref.com'+self.Name_Link[i][1])\n",
        "            time.sleep(3)\n",
        "            print(data)\n",
        "            if data!=[]:\n",
        "                if data[-1]=='Forwards':\n",
        "                    self.Forwards.loc[index[0]]=[name,data[1], data[2]]\n",
        "                    index[0]=index[0]+1\n",
        "\n",
        "                elif data[-1]=='Att Mid / Wingers':\n",
        "                    self.Forwards.loc[index[1]]=[name,data[1], data[2]]\n",
        "                    index[1]=index[1]+1\n",
        "\n",
        "                elif data[-1]=='Midfielders':\n",
        "                    self.Forwards.loc[index[2]]=[name,data[1], data[2]]\n",
        "                    index[2]=index[2]+1\n",
        "\n",
        "                elif data[-1]=='Center Backs':\n",
        "                    self.Forwards.loc[index[3]]=[name,data[1], data[2]]\n",
        "                    index[3]=index[3]+1\n",
        "\n",
        "                elif data[-1]=='Fullbacks':\n",
        "                    self.Forwards.loc[index[4]]=[name,data[1], data[2]]\n",
        "                    index[4]=index[4]+1\n",
        "\n",
        "                elif data[-1]=='Goalkeepers':\n",
        "                    self.Forwards.loc[index[5]]=[name,data[1], data[2]]\n",
        "                    index[5]=index[5]+1\n",
        "            print(index)\n",
        "\n",
        "    def load_offline(self):\n",
        "        self.Midfielders=pd.read_csv('/content/drive/MyDrive/FBREF/Midfielders.csv')\n",
        "        self.Forwards=pd.read_csv('/content/drive/MyDrive/FBREF/Forwards.csv')\n",
        "        self.AtMid_Wingers=pd.read_csv('/content/drive/MyDrive/FBREF/AtMid_Wingers.csv')\n",
        "        self.FullBacks=pd.read_csv('/content/drive/MyDrive/FBREF/FullBacks.csv')\n",
        "        self.CenterBacks=pd.read_csv('/content/drive/MyDrive/FBREF/CenterBacks.csv')\n",
        "        self.GoalKeepers=pd.read_csv('/content/drive/MyDrive/FBREF/GoalKeepers.csv')\n",
        "\n",
        "    def save(self):\n",
        "        self.Midfielders.to_csv('/content/drive/MyDrive/FBREF/Midfielders.csv')\n",
        "        self.Forwards.to_csv('/content/drive/MyDrive/FBREF/Forwards.csv')\n",
        "        self.AtMid_Wingers.to_csv('/content/drive/MyDrive/FBREF/AtMid_Wingers.csv')\n",
        "        self.FullBacks.to_csv('/content/drive/MyDrive/FBREF/FullBacks.csv')\n",
        "        self.CenterBacks.to_csv('/content/drive/MyDrive/FBREF/CenterBacks.csv')\n",
        "        self.GoalKeepers.to_csv('/content/drive/MyDrive/FBREF/GoalKeepers.csv')\n",
        "\n",
        "    def createDataBase(self, position, temp):\n",
        "\n",
        "        index=0\n",
        "        i=0\n",
        "        n = len(self.Name_Link)\n",
        "        for i in tqdm(range(n)):\n",
        "            name=self.Name_Link[i][0]\n",
        "            data=getPlayerData('https://fbref.com'+self.Name_Link[i][1])\n",
        "            time.sleep(3)\n",
        "            print(data)\n",
        "            if data!=[] and data[-1]==position:\n",
        "                temp.loc[index]=[name,data[1], data[2]]\n",
        "                index=index+1\n",
        "        print(temp)"
      ]
    },
    {
      "cell_type": "code",
      "execution_count": null,
      "metadata": {
        "id": "hEuPJ_4hbWIV"
      },
      "outputs": [],
      "source": [
        "DS = FBREFDataSet()"
      ]
    }
  ],
  "metadata": {
    "colab": {
      "provenance": []
    },
    "kernelspec": {
      "display_name": "Python 3",
      "name": "python3"
    },
    "language_info": {
      "name": "python"
    }
  },
  "nbformat": 4,
  "nbformat_minor": 0
}